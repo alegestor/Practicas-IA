{
 "cells": [
  {
   "cell_type": "markdown",
   "metadata": {},
   "source": [
    "In order to implement a planning problem we shall make use of the classes provided by the `planning_problem_pddl` (**Note**: it's important to take into account that this module considers all symbols for objects are strings)."
   ]
  },
  {
   "cell_type": "code",
   "execution_count": 1,
   "metadata": {},
   "outputs": [],
   "source": [
    "import planning_problem_pddl as pddl\n",
    "import time"
   ]
  },
  {
   "cell_type": "markdown",
   "metadata": {},
   "source": [
    "Let us begin with the examples from the unit slides: flat tyre example and the blocks world."
   ]
  },
  {
   "cell_type": "markdown",
   "metadata": {},
   "source": [
    "# Flat world problem"
   ]
  },
  {
   "cell_type": "markdown",
   "metadata": {},
   "source": [
    "Flat tyre problem: determine the steps that should be made in order to replace a flat tyre by the spare tyre which is in the trunk. We should also end up by puting the flat tyre on the trunk so that we can continue driving."
   ]
  },
  {
   "cell_type": "markdown",
   "metadata": {},
   "source": [
    "Let us first declare the predicates that will be used."
   ]
  },
  {
   "cell_type": "code",
   "execution_count": 2,
   "metadata": {},
   "outputs": [],
   "source": [
    "at = pddl.Predicate({'flat-tyre','spare-tyre'},{'axle','trunk','ground'})"
   ]
  },
  {
   "cell_type": "markdown",
   "metadata": {},
   "source": [
    "A state is an instance of the class `State`, created from a sequence of instances of previously created predicates."
   ]
  },
  {
   "cell_type": "code",
   "execution_count": 3,
   "metadata": {},
   "outputs": [
    {
     "name": "stdout",
     "output_type": "stream",
     "text": [
      "at(spare-tyre,trunk)\n",
      "at(flat-tyre,axle)\n"
     ]
    }
   ],
   "source": [
    "initial_state_tyre = pddl.State(at('flat-tyre','axle'),at('spare-tyre','trunk'))\n",
    "print(initial_state_tyre)"
   ]
  },
  {
   "cell_type": "markdown",
   "metadata": {},
   "source": [
    "Actions are implemented as instances of the class `PlanningAction`. Its arguments are the following:\n",
    "* `name`: a string describing the action. This argument is mandatory.\n",
    "* `preconditionsP`: a list of instances of predicates (positive preconditions). This argument is optional.\n",
    "* `preconditionsN`: a list of instances of predicates (negative preconditions). This argument is optional.\n",
    "* `effectsP`: a list of instances of predicates (positive effects). This argument is optional.\n",
    "* `effectsN`: a list of instances of predicates (negative effects). This argument is optional.\n",
    "* `cost`: a positive integer (our implementation assumes that the cost of applying an action is always the same, irrespectively of the state). This argument is optional (defaults to 1).\n",
    "\n",
    "If we have only one precondition or effect it is not necessary to write it as a list."
   ]
  },
  {
   "cell_type": "code",
   "execution_count": 4,
   "metadata": {},
   "outputs": [],
   "source": [
    "# Take the spare tyre out of the trunk\n",
    "takeOut = pddl.PlanningAction(\n",
    "    name = 'take_out_spare',\n",
    "    preconditionsP = at('spare-tyre','trunk'),\n",
    "    effectsP = at('spare-tyre','ground'),\n",
    "    effectsN = at('spare-tyre','trunk'))\n",
    "\n",
    "# Remove flat tyre from axle\n",
    "remove = pddl.PlanningAction(\n",
    "    name = 'remove_flat',\n",
    "    preconditionsP = [at('flat-tyre','axle')],\n",
    "    effectsP = [at('flat-tyre','ground')],\n",
    "    effectsN = [at('flat-tyre','axle')])\n",
    "\n",
    "# Install the spare tyre on the axle\n",
    "install = pddl.PlanningAction(\n",
    "    name = 'install_spare',\n",
    "    preconditionsP = at('spare-tyre','ground'),\n",
    "    preconditionsN = at('flat-tyre','axle'),\n",
    "    effectsP = at('spare-tyre','axle'),\n",
    "    effectsN = at('spare-tyre','ground'))\n",
    "\n",
    "# Pick up the flat tyre and put it in the trunk\n",
    "pickUp = pddl.PlanningAction(\n",
    "    name = 'pickUp_flat',\n",
    "    preconditionsP = [at('flat-tyre','ground')],\n",
    "    preconditionsN = [at('spare-tyre','trunk')],\n",
    "    effectsP = [at('flat-tyre','trunk')],\n",
    "    effectsN = [at('flat-tyre','ground')])"
   ]
  },
  {
   "cell_type": "markdown",
   "metadata": {},
   "source": [
    "After creating the actions, let us use `print` to see their structure."
   ]
  },
  {
   "cell_type": "code",
   "execution_count": 5,
   "metadata": {},
   "outputs": [
    {
     "name": "stdout",
     "output_type": "stream",
     "text": [
      "\n",
      "Action: remove_flat\n",
      "  Preconditions:\n",
      "    at(flat-tyre,axle)\n",
      "  Effects:\n",
      "    -at(flat-tyre,axle)\n",
      "    at(flat-tyre,ground)\n",
      "  Cost: 1\n"
     ]
    }
   ],
   "source": [
    "print(remove)"
   ]
  },
  {
   "cell_type": "code",
   "execution_count": 6,
   "metadata": {},
   "outputs": [
    {
     "name": "stdout",
     "output_type": "stream",
     "text": [
      "\n",
      "Action: pickUp_flat\n",
      "  Preconditions:\n",
      "    -at(spare-tyre,trunk)\n",
      "    at(flat-tyre,ground)\n",
      "  Effects:\n",
      "    -at(flat-tyre,ground)\n",
      "    at(flat-tyre,trunk)\n",
      "  Cost: 1\n"
     ]
    }
   ],
   "source": [
    "print(pickUp)"
   ]
  },
  {
   "cell_type": "markdown",
   "metadata": {},
   "source": [
    "Finally, our planning problems will be instances of the class `PlanningProblem` built using the following arguments:\n",
    "* `operators`: list of actions of the problem.\n",
    "* `initial_state`: initial state of the problem.\n",
    "* `goalsP`: a list of instances of predicates that form positive goals.\n",
    "* `goalsN`: a list of instances of predicates that form negative goals.\n",
    "\n",
    "In case we have only one operator, only one positive goal or only one negative goal, it is not necessary to write it as a list."
   ]
  },
  {
   "cell_type": "code",
   "execution_count": 7,
   "metadata": {},
   "outputs": [],
   "source": [
    "flat_tyre_problem = pddl.PlanningProblem(\n",
    "    operators=[remove, pickUp, takeOut, install],\n",
    "    initial_state=pddl.State(at('flat-tyre','axle'),\n",
    "                                 at('spare-tyre','trunk')),\n",
    "    goalsP=[at('flat-tyre','trunk'), \n",
    "                at('spare-tyre','axle')])"
   ]
  },
  {
   "cell_type": "markdown",
   "metadata": {},
   "source": [
    "Once implemented the planning problem, if we want to find a solution (plan) it suffices to apply some search algorithm."
   ]
  },
  {
   "cell_type": "code",
   "execution_count": 8,
   "metadata": {},
   "outputs": [],
   "source": [
    "import state_space_search as sssearch"
   ]
  },
  {
   "cell_type": "code",
   "execution_count": 9,
   "metadata": {},
   "outputs": [
    {
     "data": {
      "text/plain": [
       "['take_out_spare', 'remove_flat', 'install_spare', 'pickUp_flat']"
      ]
     },
     "execution_count": 9,
     "metadata": {},
     "output_type": "execute_result"
    }
   ],
   "source": [
    "dfs = sssearch.DepthFirstSearch()\n",
    "\n",
    "dfs.search(flat_tyre_problem)"
   ]
  },
  {
   "cell_type": "code",
   "execution_count": 10,
   "metadata": {},
   "outputs": [
    {
     "data": {
      "text/plain": [
       "['remove_flat', 'take_out_spare', 'pickUp_flat', 'install_spare']"
      ]
     },
     "execution_count": 10,
     "metadata": {},
     "output_type": "execute_result"
    }
   ],
   "source": [
    "bfs = sssearch.BreadthFirstSearch()\n",
    "\n",
    "bfs.search(flat_tyre_problem)"
   ]
  },
  {
   "cell_type": "markdown",
   "metadata": {},
   "source": [
    "# Problem of the blocks world"
   ]
  },
  {
   "cell_type": "markdown",
   "metadata": {},
   "source": [
    "Let us first declare the predicates that will be used to represent the problem, indicating a set of ranges for each argument. For predicates with no arguments, we indicate the empty set."
   ]
  },
  {
   "cell_type": "code",
   "execution_count": 11,
   "metadata": {},
   "outputs": [],
   "source": [
    "blocks = {'A','B','C'}\n",
    "clear = pddl.Predicate(blocks)\n",
    "freearm = pddl.Predicate({})\n",
    "onthetable = pddl.Predicate(blocks)\n",
    "on = pddl.Predicate(blocks,blocks)\n",
    "hold = pddl.Predicate(blocks)"
   ]
  },
  {
   "cell_type": "markdown",
   "metadata": {},
   "source": [
    "Let us define an initial state for the blocks problem where block $A$ is on the table with nothing on top of it; block $B$ is on the table and has $C$ on top of it, and nothing else on top of $C$; and the robotic arm is free."
   ]
  },
  {
   "cell_type": "code",
   "execution_count": 12,
   "metadata": {},
   "outputs": [],
   "source": [
    "initial_state_blocks = pddl.State(\n",
    "    onthetable('A'),clear('A'),\n",
    "    onthetable('B'),on('C','B'),clear('C'),\n",
    "    freearm())"
   ]
  },
  {
   "cell_type": "markdown",
   "metadata": {},
   "source": [
    "We can set different costs even for actions obtenained from the same scheme. In order to do so, we may create an instance of the class `CostScheme` providing a function that sets the desired cost with respect to some parameters. For example, assume different costs for each blocks (e.g. having different weight)."
   ]
  },
  {
   "cell_type": "code",
   "execution_count": 13,
   "metadata": {},
   "outputs": [],
   "source": [
    "cost_block = pddl.CostScheme(lambda b: {'A': 1, 'B': 2, 'C': 3}[b])"
   ]
  },
  {
   "cell_type": "markdown",
   "metadata": {},
   "source": [
    "Action schemes are implemented as instances of the class `PlanningScheme`. Arguments that can be provided are the following:\n",
    "* `name`: a string of the form $act(z_1, \\dotsc, z_k)$, where if $z_i$ represents a variable, it should be written in curly brackets. This argument is mandatory.\n",
    "* `preconditionsP`: a list of instances of predicates forming positive preconditions. This argument is optional.\n",
    "* `preconditionsN`: a list of instances of predicates forming negative preconditions. This argument is optional.\n",
    "* `effectsP`: a list of instances of predicates forming positive effects. This argument is optional.\n",
    "* `effectsN`: a list of instances of predicates forming negative effects. This argument is optional.\n",
    "* `cost`: an instance of the class `CostScheme` that sets the cost of an action with respect to the values of variables $z_i$. This argument is optional (default cost is 1).\n",
    "* `domain`: a set of tuples of the same length as the number of variables. Indicates the set of situations for which it makes sense to instantiate the action scheme.\n",
    "* `variables`: a dictionary associating to each variable name $z_i$ the set of values that it may take.\n",
    "\n",
    "At least one of the arguments `domain` or `variables` must appear. If both are included, only `domain` will be considered.\n",
    "\n",
    "The instances of predicates within `preconditionsP`, `preconditionsN`, `effectsP` and `effectsN`, may refer to variables $z_i$, which should be written between curly brackets. In case we have only one positive (or negative) precondition or only one positive or negative effect, it is not necessary to write them as a list."
   ]
  },
  {
   "cell_type": "code",
   "execution_count": 14,
   "metadata": {},
   "outputs": [],
   "source": [
    "# Pile a block on top of another\n",
    "pile = pddl.PlanningScheme('pile({x},{y})',\n",
    "    preconditionsP = [clear('{y}'),hold('{x}')],\n",
    "    effectsN = [clear('{y}'),hold('{x}')],\n",
    "    effectsP = [clear('{x}'),freearm(),on('{x}','{y}')],\n",
    "    cost = cost_block('{x}'),\n",
    "    domain = {('A','B'),('A','C'),('B','A'),('B','C'),('C','A'),('C','B')},\n",
    "    variables = {'x':blocks,'y':blocks})\n",
    "\n",
    "# Lift a block which was on top of another\n",
    "unpile = pddl.PlanningScheme('unpile({x},{y})',\n",
    "    preconditionsP = [on('{x}','{y}'),clear('{x}'),freearm()],\n",
    "    effectsN = [on('{x}','{y}'),clear('{x}'),freearm()],\n",
    "    effectsP = [hold('{x}'),clear('{y}')],\n",
    "    cost = cost_block('{x}'),\n",
    "    domain = {('A','B'),('A','C'),('B','A'),('B','C'),('C','A'),('C','B')})\n",
    "\n",
    "# Grab a block from the table\n",
    "grab = pddl.PlanningScheme('grab({x})',\n",
    "    preconditionsP = [clear('{x}'),onthetable('{x}'),freearm()],\n",
    "    effectsN = [clear('{x}'),onthetable('{x}'),freearm()],\n",
    "    effectsP = [hold('{x}')],\n",
    "    cost = cost_block('{x}'),\n",
    "    domain = blocks)\n",
    "\n",
    "# Release a block on the table\n",
    "release = pddl.PlanningScheme('release({x})',\n",
    "    preconditionsP = [hold('{x}')],\n",
    "    effectsN = [hold('{x}')],\n",
    "    effectsP = [clear('{x}'),onthetable('{x}'),freearm()],\n",
    "    cost = cost_block('{x}'),\n",
    "    variables = {'x':blocks})"
   ]
  },
  {
   "cell_type": "markdown",
   "metadata": {},
   "source": [
    "String representation of an action scheme, showing the actions obtained from it."
   ]
  },
  {
   "cell_type": "code",
   "execution_count": 15,
   "metadata": {
    "scrolled": true
   },
   "outputs": [
    {
     "name": "stdout",
     "output_type": "stream",
     "text": [
      "Operator: grab({x})\n",
      "GENERATED ACTIONS:\n",
      "\n",
      "Action: grab(C)\n",
      "  Preconditions:\n",
      "    clear(C)\n",
      "    onthetable(C)\n",
      "    freearm()\n",
      "  Effects:\n",
      "    -clear(C)\n",
      "    -onthetable(C)\n",
      "    -freearm()\n",
      "    hold(C)\n",
      "  Cost: 3\n",
      "\n",
      "Action: grab(A)\n",
      "  Preconditions:\n",
      "    clear(A)\n",
      "    onthetable(A)\n",
      "    freearm()\n",
      "  Effects:\n",
      "    -clear(A)\n",
      "    -onthetable(A)\n",
      "    -freearm()\n",
      "    hold(A)\n",
      "  Cost: 1\n",
      "\n",
      "Action: grab(B)\n",
      "  Preconditions:\n",
      "    clear(B)\n",
      "    onthetable(B)\n",
      "    freearm()\n",
      "  Effects:\n",
      "    -clear(B)\n",
      "    -onthetable(B)\n",
      "    -freearm()\n",
      "    hold(B)\n",
      "  Cost: 2\n"
     ]
    }
   ],
   "source": [
    "print(grab)"
   ]
  },
  {
   "cell_type": "code",
   "execution_count": 16,
   "metadata": {
    "scrolled": true
   },
   "outputs": [
    {
     "name": "stdout",
     "output_type": "stream",
     "text": [
      "Operator: pile({x},{y})\n",
      "GENERATED ACTIONS:\n",
      "\n",
      "Action: pile(B,C)\n",
      "  Preconditions:\n",
      "    clear(C)\n",
      "    hold(B)\n",
      "  Effects:\n",
      "    -clear(C)\n",
      "    -hold(B)\n",
      "    clear(B)\n",
      "    freearm()\n",
      "    on(B,C)\n",
      "  Cost: 2\n",
      "\n",
      "Action: pile(C,A)\n",
      "  Preconditions:\n",
      "    clear(A)\n",
      "    hold(C)\n",
      "  Effects:\n",
      "    -clear(A)\n",
      "    -hold(C)\n",
      "    clear(C)\n",
      "    freearm()\n",
      "    on(C,A)\n",
      "  Cost: 3\n",
      "\n",
      "Action: pile(A,B)\n",
      "  Preconditions:\n",
      "    clear(B)\n",
      "    hold(A)\n",
      "  Effects:\n",
      "    -clear(B)\n",
      "    -hold(A)\n",
      "    clear(A)\n",
      "    freearm()\n",
      "    on(A,B)\n",
      "  Cost: 1\n",
      "\n",
      "Action: pile(C,B)\n",
      "  Preconditions:\n",
      "    clear(B)\n",
      "    hold(C)\n",
      "  Effects:\n",
      "    -clear(B)\n",
      "    -hold(C)\n",
      "    clear(C)\n",
      "    freearm()\n",
      "    on(C,B)\n",
      "  Cost: 3\n",
      "\n",
      "Action: pile(B,A)\n",
      "  Preconditions:\n",
      "    clear(A)\n",
      "    hold(B)\n",
      "  Effects:\n",
      "    -clear(A)\n",
      "    -hold(B)\n",
      "    clear(B)\n",
      "    freearm()\n",
      "    on(B,A)\n",
      "  Cost: 2\n",
      "\n",
      "Action: pile(A,C)\n",
      "  Preconditions:\n",
      "    clear(C)\n",
      "    hold(A)\n",
      "  Effects:\n",
      "    -clear(C)\n",
      "    -hold(A)\n",
      "    clear(A)\n",
      "    freearm()\n",
      "    on(A,C)\n",
      "  Cost: 1\n"
     ]
    }
   ],
   "source": [
    "print(pile)"
   ]
  },
  {
   "cell_type": "markdown",
   "metadata": {},
   "source": [
    "Finally, in order to represent the planning problem, we provide the list of action schemes to the class `PlanningProblem` (in general, we can provide both actions and operators, or even both). "
   ]
  },
  {
   "cell_type": "code",
   "execution_count": 17,
   "metadata": {},
   "outputs": [],
   "source": [
    "problem_blocks_world = pddl.PlanningProblem(\n",
    "    operators = [pile,unpile,grab,release],\n",
    "    initial_state = initial_state_blocks,\n",
    "    goalsP = [onthetable('C'),on('B','C'),on('A','B')])"
   ]
  },
  {
   "cell_type": "markdown",
   "metadata": {},
   "source": [
    "Once implemented the planning problem, if we want to find a solution (plan) it suffices to apply some search algorithm."
   ]
  },
  {
   "cell_type": "code",
   "execution_count": 18,
   "metadata": {},
   "outputs": [
    {
     "data": {
      "text/plain": [
       "['unpile(C,B)', 'release(C)', 'grab(B)', 'pile(B,C)', 'grab(A)', 'pile(A,B)']"
      ]
     },
     "execution_count": 18,
     "metadata": {},
     "output_type": "execute_result"
    }
   ],
   "source": [
    "dfs.search(problem_blocks_world)"
   ]
  },
  {
   "cell_type": "markdown",
   "metadata": {},
   "source": [
    "__Exercise 1__: implement the planning problem described in Exercise 2 in the collection of exercises, and find a solution to it."
   ]
  },
  {
   "cell_type": "code",
   "execution_count": 19,
   "metadata": {},
   "outputs": [],
   "source": [
    "#Variables\n",
    "packages = {'p1','p2'}\n",
    "cities = {'Barcelona','Madrid','Sevilla'}\n",
    "\n",
    "#Predicates\n",
    "at = pddl.Predicate(packages,cities)\n",
    "truck_at = pddl.Predicate(cities)\n",
    "loaded = pddl.Predicate(packages)\n",
    "unloaded = pddl.Predicate()\n",
    "\n",
    "#Initial state\n",
    "initial_state_deliver = pddl.State(at('p1','Barcelona'),at('p2','Madrid'), truck_at('Sevilla'), unloaded())\n",
    "\n",
    "#Actions\n",
    "load = pddl.PlanningScheme('load({p},{c})',\n",
    "    preconditionsP = [at('{p}','{c}'), truck_at('{c}'), unloaded()],\n",
    "    effectsN = [at('{p}','{c}'), unloaded()],\n",
    "    effectsP = [loaded('{p}')],\n",
    "    variables = {'c':cities,'p':packages})\n",
    "unload = pddl.PlanningScheme('unload({p},{c})',\n",
    "    preconditionsP = [truck_at('{c}'), loaded('{p}')],\n",
    "    effectsN = [loaded('{p}')],\n",
    "    effectsP = [at('{p}','{c}'), unloaded()],\n",
    "    variables = {'c':cities,'p':packages})\n",
    "go = pddl.PlanningScheme('go({c1},{c2})',\n",
    "    preconditionsP = [truck_at('{c1}')],\n",
    "    effectsN = [truck_at('{c1}')],\n",
    "    effectsP = [truck_at('{c2}')],\n",
    "    domain = {('Sevilla','Madrid'),('Madrid','Sevilla'),('Barcelona','Madrid'),('Madrid','Barcelona')},\n",
    "    variables = {'c1':cities,'c2':cities})\n",
    "\n",
    "#Schemes\n",
    "problem_deliverable = pddl.PlanningProblem(\n",
    "    operators = [load,unload,go],\n",
    "    initial_state = initial_state_deliver,\n",
    "    goalsP = [at('p1', 'Sevilla'),at('p2', 'Barcelona')])"
   ]
  },
  {
   "cell_type": "code",
   "execution_count": 20,
   "metadata": {},
   "outputs": [
    {
     "data": {
      "text/plain": [
       "['go(Sevilla,Madrid)',\n",
       " 'go(Madrid,Barcelona)',\n",
       " 'load(p1,Barcelona)',\n",
       " 'go(Barcelona,Madrid)',\n",
       " 'go(Madrid,Sevilla)',\n",
       " 'unload(p1,Sevilla)',\n",
       " 'go(Sevilla,Madrid)',\n",
       " 'load(p2,Madrid)',\n",
       " 'go(Madrid,Sevilla)',\n",
       " 'unload(p2,Sevilla)',\n",
       " 'load(p1,Sevilla)',\n",
       " 'go(Sevilla,Madrid)',\n",
       " 'unload(p1,Madrid)',\n",
       " 'go(Madrid,Sevilla)',\n",
       " 'load(p2,Sevilla)',\n",
       " 'go(Sevilla,Madrid)',\n",
       " 'go(Madrid,Barcelona)',\n",
       " 'unload(p2,Barcelona)',\n",
       " 'go(Barcelona,Madrid)',\n",
       " 'load(p1,Madrid)',\n",
       " 'go(Madrid,Sevilla)',\n",
       " 'unload(p1,Sevilla)']"
      ]
     },
     "execution_count": 20,
     "metadata": {},
     "output_type": "execute_result"
    }
   ],
   "source": [
    "#Application\n",
    "dfs.search(problem_deliverable)"
   ]
  },
  {
   "cell_type": "code",
   "execution_count": 21,
   "metadata": {},
   "outputs": [
    {
     "data": {
      "text/plain": [
       "['go(Sevilla,Madrid)',\n",
       " 'load(p2,Madrid)',\n",
       " 'go(Madrid,Barcelona)',\n",
       " 'unload(p2,Barcelona)',\n",
       " 'load(p1,Barcelona)',\n",
       " 'go(Barcelona,Madrid)',\n",
       " 'go(Madrid,Sevilla)',\n",
       " 'unload(p1,Sevilla)']"
      ]
     },
     "execution_count": 21,
     "metadata": {},
     "output_type": "execute_result"
    }
   ],
   "source": [
    "#Application\n",
    "bfs.search(problem_deliverable)"
   ]
  },
  {
   "cell_type": "code",
   "execution_count": 22,
   "metadata": {},
   "outputs": [],
   "source": [
    "#Time calculator\n",
    "aux=time.time()\n",
    "dfs.search(problem_deliverable)\n",
    "execution_time_dfs=time.time()-aux"
   ]
  },
  {
   "cell_type": "code",
   "execution_count": 23,
   "metadata": {},
   "outputs": [],
   "source": [
    "#Time calculator\n",
    "aux=time.time()\n",
    "bfs.search(problem_deliverable)\n",
    "execution_time_bfs=time.time()-aux"
   ]
  },
  {
   "cell_type": "code",
   "execution_count": 24,
   "metadata": {},
   "outputs": [
    {
     "name": "stdout",
     "output_type": "stream",
     "text": [
      "The time to apply dfs algorythm: 0.0052165985107421875\n",
      "The time to apply bfs algorythm: 0.00861358642578125\n",
      "Conclusions:\n",
      "To sum up, execute the dfs algorythm is more efficient than bfs, by 0.0033969879150390625 seconds\n"
     ]
    }
   ],
   "source": [
    "#Conclusions\n",
    "print('The time to apply dfs algorythm:', execution_time_dfs)\n",
    "print('The time to apply bfs algorythm:', execution_time_bfs)\n",
    "print('Conclusions:')\n",
    "if(execution_time_dfs<execution_time_bfs):\n",
    "    execution=execution_time_bfs-execution_time_dfs\n",
    "    print('To sum up, execute the dfs algorythm is more efficient than bfs, by',execution, 'seconds')\n",
    "else:\n",
    "    execution=execution_time_dfs-execution_time_bfs\n",
    "    print('To sum up, execute the bfs algorythm is more efficient than dfs, by',execution, 'seconds')"
   ]
  },
  {
   "cell_type": "markdown",
   "metadata": {},
   "source": [
    "__Exercise 2__: implement the planning problem described in Exercise 11 in the collection of exercises, and find a solution to it."
   ]
  },
  {
   "cell_type": "code",
   "execution_count": 25,
   "metadata": {},
   "outputs": [],
   "source": [
    "#Variables\n",
    "places = {'Home','Mercadona','Carrefour'}\n",
    "products = {'Coffee','Milk','Sugar'}\n",
    "\n",
    "#Predicates\n",
    "at = pddl.Predicate(places)\n",
    "have = pddl.Predicate(products)\n",
    "\n",
    "#Initial state\n",
    "initial_state_shopping = pddl.State(at('Home'))\n",
    "\n",
    "#Actions\n",
    "go = pddl.PlanningScheme('go({pl1},{pl2})',\n",
    "    preconditionsP = [at('{pl1}')],\n",
    "    effectsN = [at('{pl1}')],\n",
    "    effectsP = [at('{pl2}')],\n",
    "    variables = {'pl1':places,'pl2':places})\n",
    "                \n",
    "buy = pddl.PlanningScheme('buy({pl},{pr})',\n",
    "    preconditionsP = [at('{pl}')],\n",
    "    effectsN = [],\n",
    "    effectsP = [have('{pr}')],\n",
    "    domain = {('Mercadona','Coffee'),('Mercadona','Milk'),('Carrefour','Sugar')},\n",
    "    variables = {'pl':places,'pr':products})\n",
    "\n",
    "#Schemes\n",
    "problem_shopping = pddl.PlanningProblem(\n",
    "    operators = [go,buy],\n",
    "    initial_state = initial_state_shopping,\n",
    "    goalsP = [have('Coffee'),have('Milk'),have('Sugar'),at('Home')])"
   ]
  },
  {
   "cell_type": "code",
   "execution_count": 26,
   "metadata": {
    "scrolled": true
   },
   "outputs": [
    {
     "data": {
      "text/plain": [
       "['go(Home,Mercadona)',\n",
       " 'buy(Mercadona,Coffee)',\n",
       " 'buy(Mercadona,Milk)',\n",
       " 'go(Mercadona,Carrefour)',\n",
       " 'buy(Carrefour,Sugar)',\n",
       " 'go(Carrefour,Home)']"
      ]
     },
     "execution_count": 26,
     "metadata": {},
     "output_type": "execute_result"
    }
   ],
   "source": [
    "#Application\n",
    "dfs.search(problem_shopping)"
   ]
  },
  {
   "cell_type": "code",
   "execution_count": 27,
   "metadata": {
    "scrolled": false
   },
   "outputs": [
    {
     "data": {
      "text/plain": [
       "['go(Home,Carrefour)',\n",
       " 'buy(Carrefour,Sugar)',\n",
       " 'go(Carrefour,Mercadona)',\n",
       " 'buy(Mercadona,Milk)',\n",
       " 'buy(Mercadona,Coffee)',\n",
       " 'go(Mercadona,Home)']"
      ]
     },
     "execution_count": 27,
     "metadata": {},
     "output_type": "execute_result"
    }
   ],
   "source": [
    "#Application\n",
    "bfs.search(problem_shopping)"
   ]
  },
  {
   "cell_type": "code",
   "execution_count": 28,
   "metadata": {},
   "outputs": [],
   "source": [
    "#Time calculator\n",
    "aux=time.time()\n",
    "dfs.search(problem_shopping)\n",
    "execution_time_dfs=time.time()-aux"
   ]
  },
  {
   "cell_type": "code",
   "execution_count": 29,
   "metadata": {},
   "outputs": [],
   "source": [
    "#Time calculator\n",
    "aux=time.time()\n",
    "bfs.search(problem_shopping)\n",
    "execution_time_bfs=time.time()-aux"
   ]
  },
  {
   "cell_type": "code",
   "execution_count": 30,
   "metadata": {},
   "outputs": [
    {
     "name": "stdout",
     "output_type": "stream",
     "text": [
      "The time to apply dfs algorythm: 0.0\n",
      "The time to apply bfs algorythm: 0.0063152313232421875\n",
      "Conclusions:\n",
      "To sum up, execute the dfs algorythm is more efficient than bfs, by 0.0063152313232421875 seconds\n"
     ]
    }
   ],
   "source": [
    "#Conclusions\n",
    "print('The time to apply dfs algorythm:', execution_time_dfs)\n",
    "print('The time to apply bfs algorythm:', execution_time_bfs)\n",
    "print('Conclusions:')\n",
    "if(execution_time_dfs<execution_time_bfs):\n",
    "    execution=execution_time_bfs-execution_time_dfs\n",
    "    print('To sum up, execute the dfs algorythm is more efficient than bfs, by',execution, 'seconds')\n",
    "else:\n",
    "    execution=execution_time_dfs-execution_time_bfs\n",
    "    print('To sum up, execute the bfs algorythm is more efficient than dfs, by',execution, 'seconds')"
   ]
  },
  {
   "cell_type": "code",
   "execution_count": 31,
   "metadata": {},
   "outputs": [],
   "source": [
    "print('Sometimes, in exercise 2, I don´t know why, but when you execute all the notebook using the button to restart the kernel and re-run all, does not calculate the execution time of the dfs algorythm, but if you re-run manually the time calculators and the conclusions, it works perfectly')"
   ]
  },
  {
   "cell_type": "code",
   "execution_count": null,
   "metadata": {},
   "outputs": [],
   "source": []
  }
 ],
 "metadata": {
  "kernelspec": {
   "display_name": "Python 3 (ipykernel)",
   "language": "python",
   "name": "python3"
  },
  "language_info": {
   "codemirror_mode": {
    "name": "ipython",
    "version": 3
   },
   "file_extension": ".py",
   "mimetype": "text/x-python",
   "name": "python",
   "nbconvert_exporter": "python",
   "pygments_lexer": "ipython3",
   "version": "3.9.7"
  }
 },
 "nbformat": 4,
 "nbformat_minor": 1
}
