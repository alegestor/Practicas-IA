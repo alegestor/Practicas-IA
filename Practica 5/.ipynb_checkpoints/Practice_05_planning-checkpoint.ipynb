{
 "cells": [
  {
   "cell_type": "markdown",
   "metadata": {},
   "source": [
    "In order to implement a planning problem we shall make use of the classes provided by the `planning_problem_pddl` (**Note**: it's important to take into account that this module considers all symbols for objects are strings)."
   ]
  },
  {
   "cell_type": "code",
   "execution_count": null,
   "metadata": {},
   "outputs": [],
   "source": [
    "import planning_problem_pddl as pddl"
   ]
  },
  {
   "cell_type": "markdown",
   "metadata": {},
   "source": [
    "Let us begin with the examples from the unit slides: flat tyre example and the blocks world."
   ]
  },
  {
   "cell_type": "markdown",
   "metadata": {},
   "source": [
    "# Flat world problem"
   ]
  },
  {
   "cell_type": "markdown",
   "metadata": {},
   "source": [
    "Flat tyre problem: determine the steps that should be made in order to replace a flat tyre by the spare tyre which is in the trunk. We should also end up by puting the flat tyre on the trunk so that we can continue driving."
   ]
  },
  {
   "cell_type": "markdown",
   "metadata": {},
   "source": [
    "Let us first declare the predicates that will be used."
   ]
  },
  {
   "cell_type": "code",
   "execution_count": null,
   "metadata": {},
   "outputs": [],
   "source": [
    "at = pddl.Predicate({'flat-tyre','spare-tyre'},{'axle','trunk','ground'})"
   ]
  },
  {
   "cell_type": "markdown",
   "metadata": {},
   "source": [
    "A state is an instance of the class `State`, created from a sequence of instances of previously created predicates."
   ]
  },
  {
   "cell_type": "code",
   "execution_count": null,
   "metadata": {},
   "outputs": [],
   "source": [
    "initial_state_tyre = pddl.State(at('flat-tyre','axle'),at('spare-tyre','trunk'))\n",
    "print(initial_state_tyre)"
   ]
  },
  {
   "cell_type": "markdown",
   "metadata": {},
   "source": [
    "Actions are implemented as instances of the class `PlanningAction`. Its arguments are the following:\n",
    "* `name`: a string describing the action. This argument is mandatory.\n",
    "* `preconditionsP`: a list of instances of predicates (positive preconditions). This argument is optional.\n",
    "* `preconditionsN`: a list of instances of predicates (negative preconditions). This argument is optional.\n",
    "* `effectsP`: a list of instances of predicates (positive effects). This argument is optional.\n",
    "* `effectsN`: a list of instances of predicates (negative effects). This argument is optional.\n",
    "* `cost`: a positive integer (our implementation assumes that the cost of applying an action is always the same, irrespectively of the state). This argument is optional (defaults to 1).\n",
    "\n",
    "If we have only one precondition or effect it is not necessary to write it as a list."
   ]
  },
  {
   "cell_type": "code",
   "execution_count": null,
   "metadata": {},
   "outputs": [],
   "source": [
    "# Take the spare tyre out of the trunk\n",
    "takeOut = pddl.PlanningAction(\n",
    "    name = 'take_out_spare',\n",
    "    preconditionsP = at('spare-tyre','trunk'),\n",
    "    effectsP = at('spare-tyre','ground'),\n",
    "    effectsN = at('spare-tyre','trunk'))\n",
    "\n",
    "# Remove flat tyre from axle\n",
    "remove = pddl.PlanningAction(\n",
    "    name = 'remove_flat',\n",
    "    preconditionsP = [at('flat-tyre','axle')],\n",
    "    effectsP = [at('flat-tyre','ground')],\n",
    "    effectsN = [at('flat-tyre','axle')])\n",
    "\n",
    "# Install the spare tyre on the axle\n",
    "install = pddl.PlanningAction(\n",
    "    name = 'install_spare',\n",
    "    preconditionsP = at('spare-tyre','ground'),\n",
    "    preconditionsN = at('flat-tyre','axle'),\n",
    "    effectsP = at('spare-tyre','axle'),\n",
    "    effectsN = at('spare-tyre','ground'))\n",
    "\n",
    "# Pick up the flat tyre and put it in the trunk\n",
    "pickUp = pddl.PlanningAction(\n",
    "    name = 'pickUp_flat',\n",
    "    preconditionsP = [at('flat-tyre','ground')],\n",
    "    preconditionsN = [at('spare-tyre','trunk')],\n",
    "    effectsP = [at('flat-tyre','trunk')],\n",
    "    effectsN = [at('flat-tyre','ground')])"
   ]
  },
  {
   "cell_type": "markdown",
   "metadata": {},
   "source": [
    "After creating the actions, let us use `print` to see their structure."
   ]
  },
  {
   "cell_type": "code",
   "execution_count": null,
   "metadata": {},
   "outputs": [],
   "source": [
    "print(remove)"
   ]
  },
  {
   "cell_type": "code",
   "execution_count": null,
   "metadata": {},
   "outputs": [],
   "source": [
    "print(pickUp)"
   ]
  },
  {
   "cell_type": "markdown",
   "metadata": {},
   "source": [
    "Finally, our planning problems will be instances of the class `PlanningProblem` built using the following arguments:\n",
    "* `operators`: list of actions of the problem.\n",
    "* `initial_state`: initial state of the problem.\n",
    "* `goalsP`: a list of instances of predicates that form positive goals.\n",
    "* `goalsN`: a list of instances of predicates that form negative goals.\n",
    "\n",
    "In case we have only one operator, only one positive goal or only one negative goal, it is not necessary to write it as a list."
   ]
  },
  {
   "cell_type": "code",
   "execution_count": null,
   "metadata": {},
   "outputs": [],
   "source": [
    "flat_tyre_problem = pddl.PlanningProblem(\n",
    "    operators=[remove, pickUp, takeOut, install],\n",
    "    initial_state=pddl.State(at('flat-tyre','axle'),\n",
    "                                 at('spare-tyre','trunk')),\n",
    "    goalsP=[at('flat-tyre','trunk'), \n",
    "                at('spare-tyre','axle')])"
   ]
  },
  {
   "cell_type": "markdown",
   "metadata": {},
   "source": [
    "Once implemented the planning problem, if we want to find a solution (plan) it suffices to apply some search algorithm."
   ]
  },
  {
   "cell_type": "code",
   "execution_count": null,
   "metadata": {},
   "outputs": [],
   "source": [
    "import state_space_search as sssearch"
   ]
  },
  {
   "cell_type": "code",
   "execution_count": null,
   "metadata": {},
   "outputs": [],
   "source": [
    "dfs = sssearch.DepthFirstSearch()\n",
    "\n",
    "dfs.search(flat_tyre_problem)"
   ]
  },
  {
   "cell_type": "code",
   "execution_count": null,
   "metadata": {},
   "outputs": [],
   "source": [
    "bfs = sssearch.BreadthFirstSearch()\n",
    "\n",
    "bfs.search(flat_tyre_problem)"
   ]
  },
  {
   "cell_type": "markdown",
   "metadata": {},
   "source": [
    "# Problem of the blocks world"
   ]
  },
  {
   "cell_type": "markdown",
   "metadata": {},
   "source": [
    "Let us first declare the predicates that will be used to represent the problem, indicating a set of ranges for each argument. For predicates with no arguments, we indicate the empty set."
   ]
  },
  {
   "cell_type": "code",
   "execution_count": null,
   "metadata": {},
   "outputs": [],
   "source": [
    "blocks = {'A','B','C'}\n",
    "clear = pddl.Predicate(blocks)\n",
    "freearm = pddl.Predicate({})\n",
    "onthetable = pddl.Predicate(blocks)\n",
    "on = pddl.Predicate(blocks,blocks)\n",
    "hold = pddl.Predicate(blocks)"
   ]
  },
  {
   "cell_type": "markdown",
   "metadata": {},
   "source": [
    "Let us define an initial state for the blocks problem where block $A$ is on the table with nothing on top of it; block $B$ is on the table and has $C$ on top of it, and nothing else on top of $C$; and the robotic arm is free."
   ]
  },
  {
   "cell_type": "code",
   "execution_count": null,
   "metadata": {},
   "outputs": [],
   "source": [
    "initial_state_blocks = pddl.State(\n",
    "    onthetable('A'),clear('A'),\n",
    "    onthetable('B'),on('C','B'),clear('C'),\n",
    "    freearm())"
   ]
  },
  {
   "cell_type": "markdown",
   "metadata": {},
   "source": [
    "We can set different costs even for actions obtenained from the same scheme. In order to do so, we may create an instance of the class `CostScheme` providing a function that sets the desired cost with respect to some parameters. For example, assume different costs for each blocks (e.g. having different weight)."
   ]
  },
  {
   "cell_type": "code",
   "execution_count": null,
   "metadata": {},
   "outputs": [],
   "source": [
    "cost_block = pddl.CostScheme(lambda b: {'A': 1, 'B': 2, 'C': 3}[b])"
   ]
  },
  {
   "cell_type": "markdown",
   "metadata": {},
   "source": [
    "Action schemes are implemented as instances of the class `PlanningScheme`. Arguments that can be provided are the following:\n",
    "* `name`: a string of the form $act(z_1, \\dotsc, z_k)$, where if $z_i$ represents a variable, it should be written in curly brackets. This argument is mandatory.\n",
    "* `preconditionsP`: a list of instances of predicates forming positive preconditions. This argument is optional.\n",
    "* `preconditionsN`: a list of instances of predicates forming negative preconditions. This argument is optional.\n",
    "* `effectsP`: a list of instances of predicates forming positive effects. This argument is optional.\n",
    "* `effectsN`: a list of instances of predicates forming negative effects. This argument is optional.\n",
    "* `cost`: an instance of the class `CostScheme` that sets the cost of an action with respect to the values of variables $z_i$. This argument is optional (default cost is 1).\n",
    "* `domain`: a set of tuples of the same length as the number of variables. Indicates the set of situations for which it makes sense to instantiate the action scheme.\n",
    "* `variables`: a dictionary associating to each variable name $z_i$ the set of values that it may take.\n",
    "\n",
    "At least one of the arguments `domain` or `variables` must appear. If both are included, only `domain` will be considered.\n",
    "\n",
    "The instances of predicates within `preconditionsP`, `preconditionsN`, `effectsP` and `effectsN`, may refer to variables $z_i$, which should be written between curly brackets. In case we have only one positive (or negative) precondition or only one positive or negative effect, it is not necessary to write them as a list."
   ]
  },
  {
   "cell_type": "code",
   "execution_count": null,
   "metadata": {},
   "outputs": [],
   "source": [
    "# Pile a block on top of another\n",
    "pile = pddl.PlanningScheme('pile({x},{y})',\n",
    "    preconditionsP = [clear('{y}'),hold('{x}')],\n",
    "    effectsN = [clear('{y}'),hold('{x}')],\n",
    "    effectsP = [clear('{x}'),freearm(),on('{x}','{y}')],\n",
    "    cost = cost_block('{x}'),\n",
    "    domain = {('A','B'),('A','C'),('B','A'),('B','C'),('C','A'),('C','B')},\n",
    "    variables = {'x':blocks,'y':blocks})\n",
    "\n",
    "# Lift a block which was on top of another\n",
    "unpile = pddl.PlanningScheme('unpile({x},{y})',\n",
    "    preconditionsP = [on('{x}','{y}'),clear('{x}'),freearm()],\n",
    "    effectsN = [on('{x}','{y}'),clear('{x}'),freearm()],\n",
    "    effectsP = [hold('{x}'),clear('{y}')],\n",
    "    cost = cost_block('{x}'),\n",
    "    domain = {('A','B'),('A','C'),('B','A'),('B','C'),('C','A'),('C','B')})\n",
    "\n",
    "# Grab a block from the table\n",
    "grab = pddl.PlanningScheme('grab({x})',\n",
    "    preconditionsP = [clear('{x}'),onthetable('{x}'),freearm()],\n",
    "    effectsN = [clear('{x}'),onthetable('{x}'),freearm()],\n",
    "    effectsP = [hold('{x}')],\n",
    "    cost = cost_block('{x}'),\n",
    "    domain = blocks)\n",
    "\n",
    "# Release a block on the table\n",
    "release = pddl.PlanningScheme('release({x})',\n",
    "    preconditionsP = [hold('{x}')],\n",
    "    effectsN = [hold('{x}')],\n",
    "    effectsP = [clear('{x}'),onthetable('{x}'),freearm()],\n",
    "    cost = cost_block('{x}'),\n",
    "    variables = {'x':blocks})"
   ]
  },
  {
   "cell_type": "markdown",
   "metadata": {},
   "source": [
    "String representation of an action scheme, showing the actions obtained from it."
   ]
  },
  {
   "cell_type": "code",
   "execution_count": null,
   "metadata": {},
   "outputs": [],
   "source": [
    "print(grab)"
   ]
  },
  {
   "cell_type": "code",
   "execution_count": null,
   "metadata": {},
   "outputs": [],
   "source": [
    "print(pile)"
   ]
  },
  {
   "cell_type": "markdown",
   "metadata": {},
   "source": [
    "Finally, in order to represent the planning problem, we provide the list of action schemes to the class `PlanningProblem` (in general, we can provide both actions and operators, or even both). "
   ]
  },
  {
   "cell_type": "code",
   "execution_count": null,
   "metadata": {},
   "outputs": [],
   "source": [
    "problem_blocks_world = pddl.PlanningProblem(\n",
    "    operators = [pile,unpile,grab,release],\n",
    "    initial_state = initial_state_blocks,\n",
    "    goalsP = [onthetable('C'),on('B','C'),on('A','B')])"
   ]
  },
  {
   "cell_type": "markdown",
   "metadata": {},
   "source": [
    "Once implemented the planning problem, if we want to find a solution (plan) it suffices to apply some search algorithm."
   ]
  },
  {
   "cell_type": "code",
   "execution_count": null,
   "metadata": {},
   "outputs": [],
   "source": [
    "dfs.search(problem_blocks_world)"
   ]
  },
  {
   "cell_type": "markdown",
   "metadata": {},
   "source": [
    "__Exercise 1__: implement the planning problem described in Exercise 2 in the collection of exercises, and find a solution to it."
   ]
  },
  {
   "cell_type": "code",
   "execution_count": null,
   "metadata": {},
   "outputs": [],
   "source": []
  },
  {
   "cell_type": "markdown",
   "metadata": {},
   "source": [
    "__Exercise 2__: implement the planning problem described in Exercise 11 in the collection of exercises, and find a solution to it."
   ]
  },
  {
   "cell_type": "code",
   "execution_count": null,
   "metadata": {},
   "outputs": [],
   "source": []
  }
 ],
 "metadata": {
  "kernelspec": {
   "display_name": "Python 3 (ipykernel)",
   "language": "python",
   "name": "python3"
  },
  "language_info": {
   "codemirror_mode": {
    "name": "ipython",
    "version": 3
   },
   "file_extension": ".py",
   "mimetype": "text/x-python",
   "name": "python",
   "nbconvert_exporter": "python",
   "pygments_lexer": "ipython3",
   "version": "3.9.7"
  }
 },
 "nbformat": 4,
 "nbformat_minor": 1
}
