{
 "cells": [
  {
   "cell_type": "markdown",
   "id": "a55094e5",
   "metadata": {},
   "source": [
    "Main practical assignment\n",
    "=================\n",
    "\n",
    "\n",
    "Genetic Algorithms for solving the Multi-size knapsack packing problem\n",
    "This practical assignment requires to develop, using Python, an implementation of genetic algorithms for solving a variant of the Knapsack problem, which can be stated as follows:\n",
    "\n",
    "Multi-size knapsack packing problem. Given a list of items L, where each item has a weight associated with it, the problem is to find a partition of the items into several subsets associated with multiple knapsacks, in such a way that the free space in the knapsacks is minimized. \n",
    "We will assume that we can use a finite number of sizes for the knapsacks (the list of allowed sizes/capacities should be provided as input).\n",
    "We will assume that we can use an arbitrary number of knapsacks of the same size."
   ]
  },
  {
   "cell_type": "code",
   "execution_count": 76,
   "id": "2671acd7",
   "metadata": {},
   "outputs": [],
   "source": [
    "import random"
   ]
  },
  {
   "cell_type": "code",
   "execution_count": 77,
   "id": "3190a89c",
   "metadata": {},
   "outputs": [],
   "source": [
    "# _______________________________________________________\n",
    "# Knapsack problem 1:\n",
    "# 10 objects, maximum weight 165\n",
    "weights1 = [23,31,29,44,53,38,63,85,89,82]\n",
    "values1 = [92,57,49,68,60,43,67,84,87,72]\n",
    "\n",
    "# Optimal solution= [1,1,1,1,0,1,0,0,0,0], value= 309\n",
    "# _______________________________________________________\n",
    "\n",
    "\n",
    "\n",
    "# _______________________________________________________\n",
    "# Knapsack problem 2:\n",
    "# 15 objects, maximum weight 750\n",
    "\n",
    "weights2 = [70,73,77,80,82,87,90,94,98,106,110,113,115,118,120]\n",
    "values2 = [135,139,149,150,156,163,173,184,192,201,210,214,221,229,240]\n",
    "\n",
    "# Optimal solution= [1,0,1,0,1,0,1,1,1,0,0,0,0,1,1], value= 1458\n",
    "# _______________________________________________________\n",
    "\n",
    "\n",
    "\n",
    "# _______________________________________________________\n",
    "# Knapsack problem 3:\n",
    "# 24 objects, maximum weight 6404180\n",
    "weights3 = [382745,799601,909247,729069,467902, 44328,\n",
    "       34610,698150,823460,903959,853665,551830,610856,\n",
    "       670702,488960,951111,323046,446298,931161, 31385,496951,264724,224916,169684]\n",
    "values3 = [825594,1677009,1676628,1523970, 943972,  97426,\n",
    "       69666,1296457,1679693,1902996,\n",
    "       1844992,1049289,1252836,1319836, 953277,2067538, 675367,\n",
    "       853655,1826027, 65731, 901489, 577243, 466257, 369261]\n",
    "\n",
    "# Optimal solution= [1,1,0,1,1,1,0,0,0,1,1,0,1,0,0,1,0,0,0,0,0,1,1,1], value= 13549094\n"
   ]
  },
  {
   "cell_type": "markdown",
   "id": "ed48d050",
   "metadata": {},
   "source": [
    "Knapsack problem\n",
    "-----------"
   ]
  },
  {
   "cell_type": "code",
   "execution_count": 78,
   "id": "6cb2b0b0",
   "metadata": {},
   "outputs": [],
   "source": [
    "class Problem_Genetic(object):\n",
    "    \"\"\" Class that will be used to represent problems to be addressed via a\n",
    "    generic genetic algorithm, with the following attributes:\n",
    "    - genes: list of possible genes on a chromosome\n",
    "    - individuals_length: length of the chromosomes\n",
    "    - decode: method that receives a genotype (chromosome) and returns its\n",
    "      phenotype (chromosome \"interpreted\" in terms of the original problem) \n",
    "    - fitness: method that assigns a score to chromosomes (acts over\n",
    "      genotypes)\n",
    "    - mutation: function that implements a mutation over a chromosome\n",
    "    - crossover: function that implements a crossover on two chromosomes\"\"\"\n",
    "\n",
    "    def __init__(self,genes,individuals_length,decode,fitness):\n",
    "        self.genes= genes\n",
    "        self.individuals_length= individuals_length\n",
    "        self.decode= decode\n",
    "        self.fitness= fitness\n",
    "\n",
    "    def mutation(self, c, prob):\n",
    "        cm=list(c) # makes a COPY of c\n",
    "        for i in range(len(cm)):\n",
    "            if random.random() < prob :\n",
    "                cm[i] = random.choice(self.genes)\n",
    "        return cm\n",
    "\n",
    "    def crossover(self,c1,c2):\n",
    "        pos=random.randrange(1,self.individuals_length-1)\n",
    "        cr1= c1[:pos] + c2[pos:] \n",
    "        cr2= c2[:pos] + c1[pos:] \n",
    "        return [cr1,cr2]"
   ]
  },
  {
   "cell_type": "code",
   "execution_count": 79,
   "id": "581cb455",
   "metadata": {},
   "outputs": [],
   "source": [
    "def binary_to_decimal(x):\n",
    "    return sum(b*(2**i) for (i,b) in enumerate(x)) \n",
    "\n",
    "def sq_fitness(cr, weights, max_weight):\n",
    "    res = 0\n",
    "    \n",
    "    for i in range(len(cr)):\n",
    "        res += cr[i] * weights[i]\n",
    "        \n",
    "    if res <= max_weight:\n",
    "        return max_weight - res\n",
    "    else:\n",
    "        return res * 8000\n",
    "    \n",
    "def sq_fitness1(cr):\n",
    "    return sq_fitness(cr, weights1, 165)\n",
    "\n",
    "def sq_fitness2(cr):\n",
    "    return sq_fitness(cr, weights2, 750)\n",
    "\n",
    "def sq_fitness3(cr):\n",
    "    return sq_fitness(cr, weights3, 6404180)"
   ]
  },
  {
   "cell_type": "code",
   "execution_count": 80,
   "id": "37bd095e",
   "metadata": {},
   "outputs": [],
   "source": [
    "knapsack1 = Problem_Genetic([0,1], 10, binary_to_decimal, sq_fitness1)\n",
    "knapsack2 = Problem_Genetic([0,1], 15, binary_to_decimal, sq_fitness2)\n",
    "knapsack3 = Problem_Genetic([0,1], 24, binary_to_decimal, sq_fitness3)"
   ]
  },
  {
   "cell_type": "code",
   "execution_count": 81,
   "id": "c94945ca",
   "metadata": {},
   "outputs": [
    {
     "data": {
      "text/plain": [
       "[[0, 0, 0, 1, 1, 0, 0, 1, 0, 1, 0, 0, 1, 0, 0, 1, 1, 0, 0, 1, 1, 1, 0, 1],\n",
       " [0, 0, 1, 1, 1, 1, 0, 1, 0, 1, 1, 1, 0, 0, 1, 1, 0, 1, 1, 0, 1, 0, 0, 1],\n",
       " [1, 0, 0, 1, 0, 1, 0, 1, 0, 1, 1, 1, 0, 0, 0, 0, 0, 0, 1, 0, 1, 0, 1, 0],\n",
       " [0, 1, 0, 0, 0, 1, 1, 1, 1, 1, 1, 0, 1, 1, 0, 1, 1, 0, 1, 0, 1, 1, 0, 0],\n",
       " [0, 1, 0, 1, 1, 0, 0, 1, 1, 1, 1, 1, 0, 0, 0, 1, 1, 0, 1, 0, 0, 1, 0, 0],\n",
       " [1, 1, 0, 0, 0, 0, 1, 1, 1, 1, 0, 0, 0, 0, 1, 1, 0, 1, 0, 1, 1, 1, 1, 1],\n",
       " [0, 1, 1, 0, 1, 0, 0, 1, 1, 1, 1, 0, 0, 1, 0, 0, 1, 1, 1, 0, 1, 0, 1, 1],\n",
       " [1, 0, 1, 1, 0, 1, 1, 1, 1, 1, 0, 1, 0, 0, 1, 0, 0, 0, 1, 0, 1, 1, 0, 1],\n",
       " [1, 1, 1, 1, 1, 0, 0, 0, 1, 1, 1, 0, 0, 1, 1, 0, 0, 1, 1, 0, 0, 1, 0, 1],\n",
       " [1, 1, 0, 1, 1, 0, 1, 0, 0, 0, 0, 0, 1, 0, 0, 0, 0, 1, 0, 0, 1, 1, 0, 1]]"
      ]
     },
     "execution_count": 81,
     "metadata": {},
     "output_type": "execute_result"
    }
   ],
   "source": [
    "def initial_population(pg,size):\n",
    "    return [[random.choice(pg.genes) for _ in range(pg.individuals_length)] \n",
    "             for _ in range(size)]\n",
    "\n",
    "\n",
    "initial_population(knapsack1, 10)\n",
    "initial_population(knapsack2, 10)\n",
    "initial_population(knapsack3, 10)"
   ]
  },
  {
   "cell_type": "code",
   "execution_count": 82,
   "id": "b3d7088f",
   "metadata": {},
   "outputs": [
    {
     "data": {
      "text/plain": [
       "[[0, 0, 0, 0, 0, 0, 0, 0, 1, 1, 1, 1, 1, 1, 1, 1, 1, 1, 1, 1, 1, 1, 1, 1],\n",
       " [1, 1, 1, 1, 1, 1, 1, 1, 0, 0, 0, 0, 0, 0, 0, 0, 0, 0, 0, 0, 0, 0, 0, 0],\n",
       " [0, 0, 0, 0, 0, 0, 0, 0, 0, 0, 0, 0, 0, 0, 0, 0, 0, 0, 0, 0, 0, 1, 1, 1],\n",
       " [1, 1, 1, 1, 1, 1, 1, 1, 1, 1, 1, 1, 1, 1, 1, 1, 1, 1, 1, 1, 1, 0, 0, 0]]"
      ]
     },
     "execution_count": 82,
     "metadata": {},
     "output_type": "execute_result"
    }
   ],
   "source": [
    "def crossover_parents(pg,parents):\n",
    "    pop_output = []\n",
    "    for i in range(0,len(parents),2):\n",
    "        pop_output += pg.crossover(parents[i],parents[i+1])\n",
    "    return pop_output\n",
    "\n",
    "crossover_parents(knapsack1,[[0]*10,[1]*10,[0]*10,[1]*10])\n",
    "crossover_parents(knapsack2,[[0]*15,[1]*15,[0]*15,[1]*15])\n",
    "crossover_parents(knapsack3,[[0]*24,[1]*24,[0]*24,[1]*24])"
   ]
  },
  {
   "cell_type": "code",
   "execution_count": 83,
   "id": "f425c61a",
   "metadata": {},
   "outputs": [
    {
     "data": {
      "text/plain": [
       "[[0, 0, 0, 0, 0, 0, 1, 0, 1, 0, 0, 0, 0, 0, 0, 0, 0, 0, 0, 1, 0, 0, 0, 0],\n",
       " [1, 0, 1, 1, 1, 1, 1, 1, 1, 1, 1, 1, 1, 0, 1, 1, 1, 1, 1, 1, 1, 1, 1, 1],\n",
       " [0, 0, 0, 0, 1, 0, 0, 0, 0, 0, 0, 1, 1, 1, 0, 0, 1, 0, 0, 0, 1, 1, 0, 0],\n",
       " [1, 1, 1, 1, 0, 1, 1, 0, 1, 0, 1, 0, 1, 1, 0, 0, 0, 1, 1, 1, 0, 1, 1, 1]]"
      ]
     },
     "execution_count": 83,
     "metadata": {},
     "output_type": "execute_result"
    }
   ],
   "source": [
    "def mutate_individuals(pg, popul, prob):\n",
    "    return [pg.mutation(p,prob) for p in popul]\n",
    "\n",
    "mutate_individuals(knapsack1,[[0]*10,[1]*10,[0]*10,[1]*10],0.3)\n",
    "mutate_individuals(knapsack2,[[0]*15,[1]*15,[0]*15,[1]*15],0.3)\n",
    "mutate_individuals(knapsack3,[[0]*24,[1]*24,[0]*24,[1]*24],0.3)\n"
   ]
  },
  {
   "cell_type": "code",
   "execution_count": 84,
   "id": "074998e7",
   "metadata": {},
   "outputs": [
    {
     "data": {
      "text/plain": [
       "[[0, 1, 0, 0, 1, 0, 0, 1, 0, 0, 1, 0, 0, 1, 0, 0, 1, 0, 0, 1, 0, 0, 1, 0],\n",
       " [0, 0, 0, 0, 0, 0, 0, 0, 0, 0, 0, 0, 0, 0, 0, 0, 0, 0, 0, 0, 0, 0, 0, 0]]"
      ]
     },
     "execution_count": 84,
     "metadata": {},
     "output_type": "execute_result"
    }
   ],
   "source": [
    "def choose1(pg,popul,k,opt):\n",
    "    return opt(random.sample(popul,k),key=pg.fitness)\n",
    "\n",
    "def tournament_selection(pg,popul,n,k,opt):\n",
    "    return [choose1(pg,popul,k,opt) for _ in range(n)]\n",
    "\n",
    "tournament_selection(knapsack1,[[0]*10,[1,0,0,1,0]*2,[0,1,1,0,1]*2,[1]*10,[0,1]*5,[1,0]*5],2,3,min)\n",
    "tournament_selection(knapsack2,[[0]*15,[1,0,0,1,0]*3,[0,1,1,0,1]*3,[1]*15,[0,1,0]*5,[1,0,1]*5],2,3,min)\n",
    "tournament_selection(knapsack3,[[0]*24,[1,0,0,1,0,1]*4,[0,1,1,0,1,0]*4,[1]*24,[0,1,0]*8,[1,0,1]*8],2,3,min)"
   ]
  },
  {
   "cell_type": "code",
   "execution_count": 85,
   "id": "9a7f38ad",
   "metadata": {},
   "outputs": [
    {
     "data": {
      "text/plain": [
       "[[1, 0, 0, 1, 0, 1, 1, 0, 0, 1, 0, 1, 1, 0, 1, 1, 0, 1, 1, 0, 0, 1, 0, 1],\n",
       " [1, 1, 0, 1, 0, 1, 0, 0, 0, 1, 0, 0, 1, 0, 0, 1, 1, 1, 1, 0, 0, 1, 0, 1],\n",
       " [0, 0, 1, 1, 0, 1, 0, 0, 0, 1, 0, 1, 1, 0, 0, 1, 0, 0, 0, 0, 0, 1, 0, 1],\n",
       " [1, 1, 0, 1, 0, 1, 1, 1, 0, 0, 0, 1, 1, 0, 0, 1, 0, 1, 1, 0, 0, 1, 0, 1],\n",
       " [1, 0, 0, 1, 0, 1, 0, 0, 0, 1, 0, 1, 1, 0, 0, 1, 0, 1, 1, 0, 1, 1, 0, 1],\n",
       " [1, 0, 0, 1, 0, 1, 1, 0, 1, 1, 1, 1, 1, 1, 0, 1, 1, 1, 1, 0, 1, 1, 0, 1]]"
      ]
     },
     "execution_count": 85,
     "metadata": {},
     "output_type": "execute_result"
    }
   ],
   "source": [
    "def new_generation_t(pg,k,opt,popul, n_parents,n_direct,prob_mutate):\n",
    "    p1 = tournament_selection(pg,popul,n_direct,k,opt)\n",
    "    p2 = tournament_selection(pg,popul,n_parents,k,opt)\n",
    "    p3 = crossover_parents(pg,p2)\n",
    "    p4 = p1 + p3\n",
    "    pt_plus_1 = mutate_individuals(pg,p4,prob_mutate)\n",
    "    return pt_plus_1\n",
    "\n",
    "new_generation_t(knapsack1,6,min,[[0]*10,[1,0,0,1,0]*2,[0,1,1,0,1]*2,[1]*10,[0,1]*5,[1,0]*5],4,2,0.3)\n",
    "new_generation_t(knapsack2,6,min,[[0]*15,[1,0,0,1,0]*3,[0,1,1,0,1]*3,[1]*15,[0,1,0]*5,[1,0,1]*5],4,2,0.3)\n",
    "new_generation_t(knapsack3,6,min,[[0]*24,[1,0,0,1,0,1]*4,[0,1,1,0,1,0]*4,[1]*24,[0,1,0]*8,[1,0,1]*8],4,2,0.3)"
   ]
  },
  {
   "cell_type": "code",
   "execution_count": 86,
   "id": "f2756968",
   "metadata": {},
   "outputs": [],
   "source": [
    "def genetic_algorithm_t(pg,k,opt,ngen,size,ratio_cross,prob_mutate):\n",
    "    \"\"\"\n",
    "    problem_genetic: an instance of the class Problem_Genetic, with the optimization problem that we want to solve.\n",
    "    k: number of participants on the selection tournaments.\n",
    "    opt: max or min, indicating if it is a maximization or a minimization problem.\n",
    "    ngen: number of generations (halting condition)\n",
    "    size: number of individuals for each generation\n",
    "    ratio_cross: portion of the population which will be obtained by means of crossovers.\n",
    "    prob_mutate: probability that a gene mutation will take place.\n",
    "    \"\"\"\n",
    "\n",
    "    p0 = initial_population(pg,size)\n",
    "    threshold = round(size * ratio_cross)\n",
    "    if threshold % 2 == 0:\n",
    "        n_parents = threshold\n",
    "    else:\n",
    "        n_parents = threshold - 1\n",
    "    n_direct = size - n_parents\n",
    "\n",
    "    for _ in range(ngen):\n",
    "        p0 = new_generation_t(pg,k,opt,p0, n_parents,n_direct,prob_mutate)\n",
    "\n",
    "    res = opt(p0, key = pg.fitness)\n",
    "    return str(pg.decode(res)) + ',' + str(pg.fitness(res))"
   ]
  },
  {
   "cell_type": "code",
   "execution_count": 87,
   "id": "e0ffca78",
   "metadata": {},
   "outputs": [
    {
     "data": {
      "text/plain": [
       "'30,8'"
      ]
     },
     "execution_count": 87,
     "metadata": {},
     "output_type": "execute_result"
    }
   ],
   "source": [
    "genetic_algorithm_t(knapsack1,3,min,300,8,0.7,0.3)"
   ]
  },
  {
   "cell_type": "code",
   "execution_count": 88,
   "id": "f23853ca",
   "metadata": {},
   "outputs": [
    {
     "data": {
      "text/plain": [
       "'26725,75'"
      ]
     },
     "execution_count": 88,
     "metadata": {},
     "output_type": "execute_result"
    }
   ],
   "source": [
    "genetic_algorithm_t(knapsack2,3,min,300,8,0.7,0.3)"
   ]
  },
  {
   "cell_type": "code",
   "execution_count": 89,
   "id": "2358a3c5",
   "metadata": {},
   "outputs": [
    {
     "data": {
      "text/plain": [
       "'12679829,2183'"
      ]
     },
     "execution_count": 89,
     "metadata": {},
     "output_type": "execute_result"
    }
   ],
   "source": [
    "genetic_algorithm_t(knapsack3,3,min,300,8,0.7,0.3)"
   ]
  },
  {
   "cell_type": "markdown",
   "id": "4176f493",
   "metadata": {},
   "source": [
    "Multi-Knapsack problem\n",
    "-----------"
   ]
  },
  {
   "cell_type": "code",
   "execution_count": 90,
   "id": "93a2b993",
   "metadata": {},
   "outputs": [],
   "source": [
    "def range_decode(x, size):\n",
    "    res = {}\n",
    "\n",
    "    for i in range(size + 1):\n",
    "        chromosomes = []\n",
    "        for (j,b) in enumerate(x):\n",
    "            if x[j] == i:\n",
    "                chromosomes.append(1)\n",
    "            else:\n",
    "                chromosomes.append(0)\n",
    "        res[i] = sum(b*(2**i) for (i,b) in enumerate(chromosomes))\n",
    "\n",
    "    return res"
   ]
  },
  {
   "cell_type": "code",
   "execution_count": 91,
   "id": "25d51af6",
   "metadata": {},
   "outputs": [],
   "source": [
    "def decimal_to_binary(x):\n",
    "    res = []\n",
    "\n",
    "    binary = '{0:b}'.format(int(x))\n",
    "    for i in range(len(binary)):\n",
    "        res.append(int(binary[i]))\n",
    "\n",
    "    return res"
   ]
  },
  {
   "cell_type": "code",
   "execution_count": 92,
   "id": "a86475b3",
   "metadata": {},
   "outputs": [],
   "source": [
    "def sq_fitness_multi(cr, weights, max_weight):\n",
    "    res = 0\n",
    "    \n",
    "    for i in range(len(cr)):\n",
    "        res += cr[i] * weights[i]\n",
    "        \n",
    "    if res <= max_weight:\n",
    "        return max_weight - res\n",
    "    else:\n",
    "        return res * 8000\n",
    "\n",
    "def sq_knapsack_fitness(cr, weights, max_weights):\n",
    "    res = 0\n",
    "    \n",
    "    for i in range(len(max_weights)):\n",
    "        res += sq_fitness_multi(decimal_to_binary(cr[i + 1]), weights, max_weights[i])\n",
    "        \n",
    "    return res"
   ]
  },
  {
   "cell_type": "code",
   "execution_count": 112,
   "id": "10291e67",
   "metadata": {},
   "outputs": [
    {
     "name": "stdout",
     "output_type": "stream",
     "text": [
      "{0: 536, 1: 129, 2: 290, 3: 68}\n",
      "1216048\n"
     ]
    }
   ],
   "source": [
    "res = range_decode([1,2,3,0,0,2,3,1,2,0], 3)\n",
    "print(res)\n",
    "\n",
    "fitness = sq_knapsack_fitness(res, weights1, [150, 20, 82])\n",
    "print(fitness)"
   ]
  },
  {
   "cell_type": "code",
   "execution_count": 114,
   "id": "2020f5a8",
   "metadata": {},
   "outputs": [],
   "source": [
    "max_weights1 = [150, 100, 82]\n",
    "def sq_knapsack_fitness1(cr):\n",
    "    return sq_knapsack_fitness(cr, weights1, max_weights1)\n",
    "\n",
    "max_weights2 = [300, 200, 164]\n",
    "def sq_knapsack_fitness2(cr):\n",
    "    return sq_knapsack_fitness(cr, weights2, max_weights2)\n",
    "\n",
    "max_weights3 = [1200000, 780000, 3500000]\n",
    "def sq_knapsack_fitness3(cr):\n",
    "    return sq_knapsack_fitness(cr, weights3, max_weights3)\n"
   ]
  },
  {
   "cell_type": "code",
   "execution_count": 115,
   "id": "32076b25",
   "metadata": {},
   "outputs": [],
   "source": [
    "multiKnapsack1 = Problem_Genetic([0,1,2,3], 10, range_decode, sq_knapsack_fitness1)\n",
    "multiKnapsack2 = Problem_Genetic([0,1,2,3], 15, range_decode, sq_knapsack_fitness2)\n",
    "multiKnapsack3 = Problem_Genetic([0,1,2,3], 24, range_decode, sq_knapsack_fitness3)"
   ]
  },
  {
   "cell_type": "code",
   "execution_count": 116,
   "id": "63a7719d",
   "metadata": {},
   "outputs": [],
   "source": [
    "def genetic_algorithm_t_multi(pg,k,opt,ngen,size,ratio_cross,prob_mutate,knapsack_size):\n",
    "    \"\"\"\n",
    "    problem_genetic: an instance of the class Problem_Genetic, with the optimization problem that we want to solve.\n",
    "    k: number of participants on the selection tournaments.\n",
    "    opt: max or min, indicating if it is a maximization or a minimization problem.\n",
    "    ngen: number of generations (halting condition).\n",
    "    size: number of individuals for each generation.\n",
    "    ratio_cross: portion of the population which will be obtained by means of crossovers.\n",
    "    prob_mutate: probability that a gene mutation will take place.\n",
    "    knapsack_size: total number of knapsacks to consider.\n",
    "    \"\"\"\n",
    "\n",
    "    p0 = initial_population(pg,size)\n",
    "    threshold = round(size * ratio_cross)\n",
    "    if threshold % 2 == 0:\n",
    "        n_parents = threshold\n",
    "    else:\n",
    "        n_parents = threshold - 1\n",
    "    n_direct = size - n_parents\n",
    "\n",
    "    for _ in range(ngen):\n",
    "        p0 = new_generation_t(pg,k,opt,p0, n_parents,n_direct,prob_mutate)\n",
    "\n",
    "    res = opt(p0, key = pg.fitness)\n",
    "    return str(pg.decode(res,knapsack_size)) + ', ' + str(pg.fitness(res))"
   ]
  },
  {
   "cell_type": "code",
   "execution_count": 135,
   "id": "c0f7d68d",
   "metadata": {},
   "outputs": [
    {
     "data": {
      "text/plain": [
       "'{0: 545, 1: 0, 2: 0, 3: 478}, 170'"
      ]
     },
     "execution_count": 135,
     "metadata": {},
     "output_type": "execute_result"
    }
   ],
   "source": [
    "genetic_algorithm_t_multi(multiKnapsack1,3,min,300,8,0.7,0.3,len(max_weights1))"
   ]
  },
  {
   "cell_type": "code",
   "execution_count": 119,
   "id": "dbced76c",
   "metadata": {},
   "outputs": [
    {
     "data": {
      "text/plain": [
       "'{0: 2048, 1: 4208, 2: 9728, 3: 16783}, 235'"
      ]
     },
     "execution_count": 119,
     "metadata": {},
     "output_type": "execute_result"
    }
   ],
   "source": [
    "genetic_algorithm_t_multi(multiKnapsack2,3,min,300,8,0.7,0.3,len(max_weights2))"
   ]
  },
  {
   "cell_type": "code",
   "execution_count": 99,
   "id": "ea423c53",
   "metadata": {},
   "outputs": [
    {
     "data": {
      "text/plain": [
       "'{0: 4342816, 1: 526993, 2: 360780, 3: 11546626}, 3532164'"
      ]
     },
     "execution_count": 99,
     "metadata": {},
     "output_type": "execute_result"
    }
   ],
   "source": [
    "genetic_algorithm_t_multi(multiKnapsack3,3,min,300,8,0.7,0.3,len(max_weights3))"
   ]
  },
  {
   "cell_type": "markdown",
   "id": "55aa98f6",
   "metadata": {},
   "source": [
    "Data generation\n",
    "-----------"
   ]
  },
  {
   "cell_type": "code",
   "execution_count": 100,
   "id": "fc32a2a0",
   "metadata": {},
   "outputs": [],
   "source": [
    "import csv\n",
    "\n",
    "instances = 300"
   ]
  },
  {
   "cell_type": "code",
   "execution_count": 53,
   "id": "7e268021",
   "metadata": {},
   "outputs": [],
   "source": [
    "with open('knapsack1.csv', 'w', newline='') as csvfile:\n",
    "    reader = csv.writer(csvfile)\n",
    "    reader.writerow(['chromosome','fitness'])\n",
    "    for _ in range(instances):\n",
    "        row = genetic_algorithm_t(knapsack1,3,min,300,8,0.7,0.3).split(',')\n",
    "        reader.writerow(row)"
   ]
  },
  {
   "cell_type": "code",
   "execution_count": 54,
   "id": "2f478bf0",
   "metadata": {},
   "outputs": [],
   "source": [
    "with open('knapsack2.csv', 'w', newline='') as csvfile:\n",
    "    reader = csv.writer(csvfile)\n",
    "    reader.writerow(['chromosome','fitness'])\n",
    "    for _ in range(instances):\n",
    "        row = genetic_algorithm_t(knapsack2,3,min,300,8,0.7,0.3).split(',')\n",
    "        reader.writerow(row)"
   ]
  },
  {
   "cell_type": "code",
   "execution_count": 60,
   "id": "3ec66022",
   "metadata": {},
   "outputs": [],
   "source": [
    "instances_knapsack3 = 5000\n",
    "with open('knapsack3.csv', 'w', newline='') as csvfile:\n",
    "    reader = csv.writer(csvfile)\n",
    "    reader.writerow(['chromosome','fitness'])\n",
    "    for _ in range(instances_knapsack3):\n",
    "        row = genetic_algorithm_t(knapsack3,3,min,300,8,0.7,0.3).split(',')\n",
    "        reader.writerow(row)"
   ]
  },
  {
   "cell_type": "code",
   "execution_count": 101,
   "id": "96087b54",
   "metadata": {},
   "outputs": [],
   "source": [
    "with open('multiKnapsack1.csv', 'w', newline='') as csvfile:\n",
    "    reader = csv.writer(csvfile)\n",
    "    reader.writerow(['remaining_weights','fitness'])\n",
    "    for _ in range(instances):\n",
    "        row = genetic_algorithm_t_multi(multiKnapsack1,3,min,300,8,0.7,0.3,len(max_weights1)).replace('','').split(',')\n",
    "        reader.writerow(row)"
   ]
  },
  {
   "cell_type": "code",
   "execution_count": 57,
   "id": "d505b299",
   "metadata": {},
   "outputs": [],
   "source": [
    "with open('multiKnapsack2.csv', 'w', newline='') as csvfile:\n",
    "    reader = csv.writer(csvfile)\n",
    "    reader.writerow(['chromosome','fitness'])\n",
    "    for _ in range(instances):\n",
    "        row = genetic_algorithm_t_multi(multiKnapsack2,3,min,300,8,0.7,0.3,len(max_weights2))\n",
    "        reader.writerow(row)"
   ]
  },
  {
   "cell_type": "code",
   "execution_count": 58,
   "id": "c86646ec",
   "metadata": {},
   "outputs": [],
   "source": [
    "with open('multiKnapsack3.csv', 'w', newline='') as csvfile:\n",
    "    reader = csv.writer(csvfile)\n",
    "    reader.writerow(['chromosome','fitness'])\n",
    "    for _ in range(instances):\n",
    "        row = genetic_algorithm_t_multi(multiKnapsack3,3,min,300,8,0.7,0.3,len(max_weights3))\n",
    "        reader.writerow(row)"
   ]
  }
 ],
 "metadata": {
  "kernelspec": {
   "display_name": "Python 3 (ipykernel)",
   "language": "python",
   "name": "python3"
  },
  "language_info": {
   "codemirror_mode": {
    "name": "ipython",
    "version": 3
   },
   "file_extension": ".py",
   "mimetype": "text/x-python",
   "name": "python",
   "nbconvert_exporter": "python",
   "pygments_lexer": "ipython3",
   "version": "3.10.0"
  },
  "vscode": {
   "interpreter": {
    "hash": "369f2c481f4da34e4445cda3fffd2e751bd1c4d706f27375911949ba6bb62e1c"
   }
  }
 },
 "nbformat": 4,
 "nbformat_minor": 5
}
