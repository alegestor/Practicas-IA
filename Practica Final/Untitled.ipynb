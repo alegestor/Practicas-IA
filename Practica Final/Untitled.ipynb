{
 "cells": [
  {
   "cell_type": "markdown",
   "id": "a55094e5",
   "metadata": {},
   "source": [
    "Main practical assignment\n",
    "=================\n",
    "\n",
    "\n",
    "Genetic Algorithms for solving the Multi-size knapsack packing problem\n",
    "This practical assignment requires to develop, using Python, an implementation of genetic algorithms for solving a variant of the Knapsack problem, which can be stated as follows:\n",
    "\n",
    "Multi-size knapsack packing problem. Given a list of items L, where each item has a weight associated with it, the problem is to find a partition of the items into several subsets associated with multiple knapsacks, in such a way that the free space in the knapsacks is minimized. \n",
    "We will assume that we can use a finite number of sizes for the knapsacks (the list of allowed sizes/capacities should be provided as input).\n",
    "We will assume that we can use an arbitrary number of knapsacks of the same size."
   ]
  },
  {
   "cell_type": "code",
   "execution_count": null,
   "id": "91193ea2",
   "metadata": {},
   "outputs": [],
   "source": []
  },
  {
   "cell_type": "code",
   "execution_count": null,
   "id": "6cb2b0b0",
   "metadata": {},
   "outputs": [],
   "source": []
  }
 ],
 "metadata": {
  "kernelspec": {
   "display_name": "Python 3 (ipykernel)",
   "language": "python",
   "name": "python3"
  },
  "language_info": {
   "codemirror_mode": {
    "name": "ipython",
    "version": 3
   },
   "file_extension": ".py",
   "mimetype": "text/x-python",
   "name": "python",
   "nbconvert_exporter": "python",
   "pygments_lexer": "ipython3",
   "version": "3.9.7"
  }
 },
 "nbformat": 4,
 "nbformat_minor": 5
}
