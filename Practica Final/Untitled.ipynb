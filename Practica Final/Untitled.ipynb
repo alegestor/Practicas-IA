{
 "cells": [
  {
   "cell_type": "markdown",
   "id": "a55094e5",
   "metadata": {},
   "source": [
    "Main practical assignment\n",
    "=================\n",
    "\n",
    "\n",
    "Genetic Algorithms for solving the Multi-size knapsack packing problem\n",
    "This practical assignment requires to develop, using Python, an implementation of genetic algorithms for solving a variant of the Knapsack problem, which can be stated as follows:\n",
    "\n",
    "Multi-size knapsack packing problem. Given a list of items L, where each item has a weight associated with it, the problem is to find a partition of the items into several subsets associated with multiple knapsacks, in such a way that the free space in the knapsacks is minimized. \n",
    "We will assume that we can use a finite number of sizes for the knapsacks (the list of allowed sizes/capacities should be provided as input).\n",
    "We will assume that we can use an arbitrary number of knapsacks of the same size."
   ]
  },
  {
   "cell_type": "code",
   "execution_count": 1,
   "id": "2671acd7",
   "metadata": {},
   "outputs": [],
   "source": [
    "import random"
   ]
  },
  {
   "cell_type": "code",
   "execution_count": 4,
   "id": "3190a89c",
   "metadata": {},
   "outputs": [],
   "source": [
    "# _______________________________________________________\n",
    "# Knapsack problem 1:\n",
    "# 10 objects, maximum weight 165\n",
    "weights1 = [23,31,29,44,53,38,63,85,89,82]\n",
    "values1 = [92,57,49,68,60,43,67,84,87,72]\n",
    "\n",
    "# Optimal solution= [1,1,1,1,0,1,0,0,0,0], value= 309\n",
    "# _______________________________________________________\n",
    "\n",
    "\n",
    "\n",
    "# _______________________________________________________\n",
    "# Knapsack problem 2:\n",
    "# 15 objects, maximum weight 750\n",
    "\n",
    "weights2 = [70,73,77,80,82,87,90,94,98,106,110,113,115,118,120]\n",
    "values2 = [135,139,149,150,156,163,173,184,192,201,210,214,221,229,240]\n",
    "\n",
    "# Optimal solution= [1,0,1,0,1,0,1,1,1,0,0,0,0,1,1], value= 1458\n",
    "# _______________________________________________________\n",
    "\n",
    "\n",
    "\n",
    "# _______________________________________________________\n",
    "# Knapsack problem 3:\n",
    "# 24 objects, maximum weight 6404180\n",
    "weights3 = [382745,799601,909247,729069,467902, 44328,\n",
    "       34610,698150,823460,903959,853665,551830,610856,\n",
    "       670702,488960,951111,323046,446298,931161, 31385,496951,264724,224916,169684]\n",
    "values3 = [825594,1677009,1676628,1523970, 943972,  97426,\n",
    "       69666,1296457,1679693,1902996,\n",
    "       1844992,1049289,1252836,1319836, 953277,2067538, 675367,\n",
    "       853655,1826027, 65731, 901489, 577243, 466257, 369261]\n",
    "\n",
    "# Optimal solution= [1,1,0,1,1,1,0,0,0,1,1,0,1,0,0,1,0,0,0,0,0,1,1,1], value= 13549094\n"
   ]
  },
  {
   "cell_type": "markdown",
   "id": "ed48d050",
   "metadata": {},
   "source": [
    "Knapsack problem\n",
    "-----------"
   ]
  },
  {
   "cell_type": "code",
   "execution_count": 2,
   "id": "6cb2b0b0",
   "metadata": {},
   "outputs": [],
   "source": [
    "class Problem_Genetic(object):\n",
    "    \"\"\" Class that will be used to represent problems to be addressed via a\n",
    "    generic genetic algorithm, with the following attributes:\n",
    "    - genes: list of possible genes on a chromosome\n",
    "    - individuals_length: length of the chromosomes\n",
    "    - decode: method that receives a genotype (chromosome) and returns its\n",
    "      phenotype (chromosome \"interpreted\" in terms of the original problem) \n",
    "    - fitness: method that assigns a score to chromosomes (acts over\n",
    "      genotypes)\n",
    "    - mutation: function that implements a mutation over a chromosome\n",
    "    - crossover: function that implements a crossover on two chromosomes\"\"\"\n",
    "\n",
    "    def __init__(self,genes,individuals_length,decode,fitness):\n",
    "        self.genes= genes\n",
    "        self.individuals_length= individuals_length\n",
    "        self.decode= decode\n",
    "        self.fitness= fitness\n",
    "\n",
    "    def mutation(self, c, prob):\n",
    "        cm=list(c) # makes a COPY of c\n",
    "        for i in range(len(cm)):\n",
    "            if random.random() < prob :\n",
    "                cm[i] = random.choice(self.genes)\n",
    "        return cm\n",
    "\n",
    "    def crossover(self,c1,c2):\n",
    "        pos=random.randrange(1,self.individuals_length-1)\n",
    "        cr1= c1[:pos] + c2[pos:] \n",
    "        cr2= c2[:pos] + c1[pos:] \n",
    "        return [cr1,cr2]"
   ]
  },
  {
   "cell_type": "code",
   "execution_count": null,
   "id": "581cb455",
   "metadata": {},
   "outputs": [],
   "source": [
    "def binary_to_decimal(x):\n",
    "    return sum(b*(2**i) for (i,b) in enumerate(x)) \n",
    "\n",
    "def sq_fitness(cr, weights, max_weight):\n",
    "    res = 0\n",
    "    \n",
    "    for i in range(len(cr)):\n",
    "        res += cr[i] * weights[i]\n",
    "        \n",
    "    if res <= max_weight:\n",
    "        return max_weight - res\n",
    "    else:\n",
    "        return res * 8000\n",
    "    \n",
    "def sq_fitness1(cr):\n",
    "    return sq_fitness(cr, weights1, 165)\n",
    "\n",
    "def sq_fitness2(cr):\n",
    "    return sq_fitness(cr, weights2, 750)\n",
    "\n",
    "def sq_fitness3(cr):\n",
    "    return sq_fitness(cr, weights1, 6404180)"
   ]
  }
 ],
 "metadata": {
  "kernelspec": {
   "display_name": "Python 3.10.0 64-bit",
   "language": "python",
   "name": "python3"
  },
  "language_info": {
   "codemirror_mode": {
    "name": "ipython",
    "version": 3
   },
   "file_extension": ".py",
   "mimetype": "text/x-python",
   "name": "python",
   "nbconvert_exporter": "python",
   "pygments_lexer": "ipython3",
   "version": "3.10.0"
  },
  "vscode": {
   "interpreter": {
    "hash": "369f2c481f4da34e4445cda3fffd2e751bd1c4d706f27375911949ba6bb62e1c"
   }
  }
 },
 "nbformat": 4,
 "nbformat_minor": 5
}
